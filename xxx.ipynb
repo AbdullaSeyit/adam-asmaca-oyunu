{
 "cells": [
  {
   "cell_type": "code",
   "execution_count": 1,
   "id": "9bfbcc3f",
   "metadata": {},
   "outputs": [
    {
     "name": "stdout",
     "output_type": "stream",
     "text": [
      "_ _ _ _ _\n",
      "harf giriniz\n",
      "küçük harf kullanınız: a\n",
      "['a', '', 'a', '', 'a']\n",
      "harf giriniz\n",
      "küçük harf kullanınız: a\n",
      "\n",
      "bu harfi kulandınız\n",
      "\n",
      "kallanılmış kelimeler:  ['a']\n",
      "harf giriniz\n",
      "küçük harf kullanınız: r\n",
      "['a', 'r', 'a', '', 'a']\n",
      "harf giriniz\n",
      "küçük harf kullanınız: b\n",
      "['a', 'r', 'a', 'b', 'a']\n",
      "kazandınız\n"
     ]
    }
   ],
   "source": [
    "kelime=[\"araba\"]\n",
    "s=[\"\",\"\",\"\",\"\",\"\"]\n",
    "can=8\n",
    "d=[]\n",
    "print(\"_ _ _ _ _\")\n",
    "while True:\n",
    "    if(s==[\"a\",\"r\",\"a\",\"b\",\"a\"]):\n",
    "        print(\"kazandınız\")\n",
    "        break\n",
    "    x=input(\"harf giriniz\\nküçük harf kullanınız: \")\n",
    "    \n",
    "    if (x==\"q\"):\n",
    "        print(\"çıkış yapıldı\")\n",
    "        break\n",
    "        \n",
    "    elif x==\"a\":\n",
    "        \n",
    "        if(x==s[0]):\n",
    "            print(\"\\nbu harfi kulandınız\\n\")\n",
    "            print(\"kallanılmış kelimeler: \",d)\n",
    "            \n",
    "            \n",
    "        else:\n",
    "            s[0]+=\"a\"\n",
    "            s[2]+=\"a\"\n",
    "            s[4]+=\"a\"\n",
    "            d+=\"a\"\n",
    "            print(s)\n",
    "            \n",
    "    elif x==\"r\":\n",
    "        \n",
    "        if(x==s[1]):\n",
    "            print(\"\\nbu harfi kulandınız\\n\")\n",
    "            print(\"kallanılmış kelimeler: \",d)\n",
    "            \n",
    "        else:\n",
    "            s[1]+=\"r\"\n",
    "            d+=\"r\"\n",
    "            print(s)\n",
    "            \n",
    "    elif x==\"b\":\n",
    "        \n",
    "        if(x==s[3]):\n",
    "            print(\"\\nbu harfi kulandınız\\n\")\n",
    "            print(\"kallanılmış kelimeler:\\n\",d)\n",
    "\n",
    "        else:\n",
    "            s[3]+=\"b\"\n",
    "            d+=\"b\"\n",
    "            print(s)\n",
    "            \n",
    "    elif can==0:\n",
    "        print(\"kaybettiniz\")\n",
    "        break\n",
    "        \n",
    "    elif not x==\"a\" or x==\"r\" or x==\"b\":\n",
    "        can-=1\n",
    "        print(can)      "
   ]
  },
  {
   "cell_type": "code",
   "execution_count": null,
   "id": "114711c7",
   "metadata": {},
   "outputs": [],
   "source": []
  },
  {
   "cell_type": "code",
   "execution_count": null,
   "id": "3fc60235",
   "metadata": {},
   "outputs": [],
   "source": []
  }
 ],
 "metadata": {
  "kernelspec": {
   "display_name": "Python 3 (ipykernel)",
   "language": "python",
   "name": "python3"
  },
  "language_info": {
   "codemirror_mode": {
    "name": "ipython",
    "version": 3
   },
   "file_extension": ".py",
   "mimetype": "text/x-python",
   "name": "python",
   "nbconvert_exporter": "python",
   "pygments_lexer": "ipython3",
   "version": "3.9.12"
  }
 },
 "nbformat": 4,
 "nbformat_minor": 5
}
